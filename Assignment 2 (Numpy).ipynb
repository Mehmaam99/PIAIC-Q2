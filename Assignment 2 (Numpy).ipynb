{
 "cells": [
  {
   "cell_type": "code",
   "execution_count": 17,
   "metadata": {},
   "outputs": [],
   "source": [
    "#Numpy_Assignment_2::\n"
   ]
  },
  {
   "cell_type": "code",
   "execution_count": 18,
   "metadata": {},
   "outputs": [
    {
     "data": {
      "text/plain": [
       "array([[[0, 1, 2, 3, 4],\n",
       "        [5, 6, 7, 8, 9]]])"
      ]
     },
     "execution_count": 18,
     "metadata": {},
     "output_type": "execute_result"
    }
   ],
   "source": [
    "#Convert a 1D array to a 2D array with 2 rows?\n",
    "#Question:1\n",
    "import numpy as np\n",
    "arr1d=np.array([0,1,2,3,4,5,6,7,8,9])\n",
    "arr1d.reshape(1,2,5)"
   ]
  },
  {
   "cell_type": "code",
   "execution_count": 19,
   "metadata": {},
   "outputs": [
    {
     "data": {
      "text/plain": [
       "array([[0, 1, 2, 3, 4],\n",
       "       [5, 6, 7, 8, 9],\n",
       "       [1, 1, 1, 1, 1],\n",
       "       [1, 1, 1, 1, 1]])"
      ]
     },
     "execution_count": 19,
     "metadata": {},
     "output_type": "execute_result"
    }
   ],
   "source": [
    "#Question:2\n",
    "#How to stack two arrays vertically?\n",
    "x = np.array([[0,1,2,3,4],[5,6,7,8,9]])\n",
    "y = np.array([[1,1,1,1,1],[1,1,1,1,1]])\n",
    "np.vstack((x,y))"
   ]
  },
  {
   "cell_type": "code",
   "execution_count": 20,
   "metadata": {},
   "outputs": [
    {
     "data": {
      "text/plain": [
       "array([[0, 1, 2, 3, 4, 1, 1, 1, 1, 1],\n",
       "       [5, 6, 7, 8, 9, 1, 1, 1, 1, 1]])"
      ]
     },
     "execution_count": 20,
     "metadata": {},
     "output_type": "execute_result"
    }
   ],
   "source": [
    "#Question:3\n",
    "#How to stack two arrays horizontally?\n",
    "np.hstack((x,y))"
   ]
  },
  {
   "cell_type": "code",
   "execution_count": 23,
   "metadata": {},
   "outputs": [
    {
     "data": {
      "text/plain": [
       "array([0, 1, 2, 3, 4, 5, 6, 7, 8, 9])"
      ]
     },
     "execution_count": 23,
     "metadata": {},
     "output_type": "execute_result"
    }
   ],
   "source": [
    "#Question:4\n",
    "#How to convert an array of arrays into a flat 1d array?\n",
    "arr2d = np.array([[0,1,2,3,4], [5,6,7,8,9]])\n",
    "arr1d = arr2d.reshape(-1)\n",
    "arr1d\n"
   ]
  },
  {
   "cell_type": "code",
   "execution_count": 30,
   "metadata": {},
   "outputs": [
    {
     "name": "stdout",
     "output_type": "stream",
     "text": [
      "[[[ 0  1  2  3  4]\n",
      "  [ 5  6  7  8  9]\n",
      "  [10 11 12 13 14]]]\n"
     ]
    },
    {
     "data": {
      "text/plain": [
       "array([ 0,  1,  2,  3,  4,  5,  6,  7,  8,  9, 10, 11, 12, 13, 14])"
      ]
     },
     "execution_count": 30,
     "metadata": {},
     "output_type": "execute_result"
    }
   ],
   "source": [
    "#Question:5\n",
    "#How to Convert higher dimension into one dimension?\n",
    "arrd=np.arange(15).reshape(1,3,5)\n",
    "print(arrd)\n",
    "arr1d=arrd.flatten()\n",
    "arr1d"
   ]
  },
  {
   "cell_type": "code",
   "execution_count": 32,
   "metadata": {},
   "outputs": [
    {
     "data": {
      "text/plain": [
       "array([[[ 0,  1,  2],\n",
       "        [ 3,  4,  5],\n",
       "        [ 6,  7,  8],\n",
       "        [ 9, 10, 11],\n",
       "        [12, 13, 14]]])"
      ]
     },
     "execution_count": 32,
     "metadata": {},
     "output_type": "execute_result"
    }
   ],
   "source": [
    "#Question:6\n",
    "#Convert one dimension to higher dimension?\n",
    "arrd=np.arange(15).reshape(1,5,3)\n",
    "arrd"
   ]
  },
  {
   "cell_type": "code",
   "execution_count": 34,
   "metadata": {},
   "outputs": [
    {
     "data": {
      "text/plain": [
       "array([[[  0,   1,   4,   9,  16],\n",
       "        [ 25,  36,  49,  64,  81],\n",
       "        [100, 121, 144, 169, 196],\n",
       "        [225, 256, 289, 324, 361],\n",
       "        [400, 441, 484, 529, 576]]], dtype=int32)"
      ]
     },
     "execution_count": 34,
     "metadata": {},
     "output_type": "execute_result"
    }
   ],
   "source": [
    "#Question:7\n",
    "#Create 5x5 an array and find the square of an array?\n",
    "arr=np.arange(25).reshape(1,5,5)\n",
    "np.square(arr)\n"
   ]
  },
  {
   "cell_type": "code",
   "execution_count": 38,
   "metadata": {},
   "outputs": [
    {
     "data": {
      "text/plain": [
       "14.5"
      ]
     },
     "execution_count": 38,
     "metadata": {},
     "output_type": "execute_result"
    }
   ],
   "source": [
    "#Question:8\n",
    "#Create 5x6 an array and find the mean?\n",
    "\n",
    "arr8=np.arange(30).reshape(1,5,6)\n",
    "np.mean(arr)"
   ]
  },
  {
   "cell_type": "code",
   "execution_count": 39,
   "metadata": {},
   "outputs": [
    {
     "data": {
      "text/plain": [
       "8.65544144839919"
      ]
     },
     "execution_count": 39,
     "metadata": {},
     "output_type": "execute_result"
    }
   ],
   "source": [
    "#Question:9\n",
    "#Find the standard deviation of the previous array in Q8?\n",
    "np.std(arr8)"
   ]
  },
  {
   "cell_type": "code",
   "execution_count": 40,
   "metadata": {},
   "outputs": [
    {
     "data": {
      "text/plain": [
       "14.5"
      ]
     },
     "execution_count": 40,
     "metadata": {},
     "output_type": "execute_result"
    }
   ],
   "source": [
    "#Question:10\n",
    "#Find the median of the previous array in Q8?\n",
    "np.median(arr8)"
   ]
  },
  {
   "cell_type": "code",
   "execution_count": 41,
   "metadata": {},
   "outputs": [
    {
     "data": {
      "text/plain": [
       "array([[[ 0],\n",
       "        [ 6],\n",
       "        [12],\n",
       "        [18],\n",
       "        [24]],\n",
       "\n",
       "       [[ 1],\n",
       "        [ 7],\n",
       "        [13],\n",
       "        [19],\n",
       "        [25]],\n",
       "\n",
       "       [[ 2],\n",
       "        [ 8],\n",
       "        [14],\n",
       "        [20],\n",
       "        [26]],\n",
       "\n",
       "       [[ 3],\n",
       "        [ 9],\n",
       "        [15],\n",
       "        [21],\n",
       "        [27]],\n",
       "\n",
       "       [[ 4],\n",
       "        [10],\n",
       "        [16],\n",
       "        [22],\n",
       "        [28]],\n",
       "\n",
       "       [[ 5],\n",
       "        [11],\n",
       "        [17],\n",
       "        [23],\n",
       "        [29]]])"
      ]
     },
     "execution_count": 41,
     "metadata": {},
     "output_type": "execute_result"
    }
   ],
   "source": [
    "#Question:11\n",
    "#Find the transpose of the previous array in Q8?\n",
    "np.transpose(arr8)"
   ]
  },
  {
   "cell_type": "code",
   "execution_count": 66,
   "metadata": {},
   "outputs": [
    {
     "name": "stdout",
     "output_type": "stream",
     "text": [
      "Original matrix is :\n",
      " [[ 0  1  2  3]\n",
      " [ 4  5  6  7]\n",
      " [ 8  9 10 11]\n",
      " [12 13 14 15]]\n",
      "Sum of Diagonal : 30\n"
     ]
    }
   ],
   "source": [
    "#Question:12\n",
    "#Create a 4x4 an array and find the sum of diagonal elements?\n",
    "arr=np.arange(16).reshape((4,4))\n",
    "print(\"Original matrix is :\\n\",arr)\n",
    "ans=arr.trace()\n",
    "print(\"Sum of Diagonal :\", ans)"
   ]
  },
  {
   "cell_type": "code",
   "execution_count": 70,
   "metadata": {},
   "outputs": [
    {
     "name": "stdout",
     "output_type": "stream",
     "text": [
      "Original matrix is :\n",
      " [[ 0  1  2  3]\n",
      " [ 4  5  6  7]\n",
      " [ 8  9 10 11]\n",
      " [12 13 14 15]]\n"
     ]
    },
    {
     "data": {
      "text/plain": [
       "-2.9582283945787796e-30"
      ]
     },
     "execution_count": 70,
     "metadata": {},
     "output_type": "execute_result"
    }
   ],
   "source": [
    "#Question:13\n",
    "#Find the determinant of the previous array in Q12?\n",
    "arr=np.arange(16).reshape((4,4))\n",
    "print(\"Original matrix is :\\n\",arr)\n",
    "ans=np.linalg.det(arr)\n",
    "ans"
   ]
  },
  {
   "cell_type": "code",
   "execution_count": 79,
   "metadata": {},
   "outputs": [
    {
     "name": "stdout",
     "output_type": "stream",
     "text": [
      "[[ 0  1  2  3  4  5  6]\n",
      " [ 7  8  9 10 11 12 13]\n",
      " [14 15 16 17 18 19 20]\n",
      " [21 22 23 24 25 26 27]\n",
      " [28 29 30 31 32 33 34]\n",
      " [35 36 37 38 39 40 41]\n",
      " [42 43 44 45 46 47 48]]\n",
      "5th percentile of arr3d :  0.75\n",
      "95th percentile of arr3d :  14.25\n"
     ]
    }
   ],
   "source": [
    "#Question:14\n",
    "#Find the 5th and 95th percentile of an array?\n",
    "arr3d=np.arange(49).reshape(7,7)\n",
    "print(arr3d)\n",
    "print(\"5th percentile of arr3d : \",np.percentile(arr,5))\n",
    "print(\"95th percentile of arr3d : \",np.percentile(arr,95))\n"
   ]
  },
  {
   "cell_type": "code",
   "execution_count": 102,
   "metadata": {},
   "outputs": [
    {
     "data": {
      "text/plain": [
       "array([False, False, False, False, False, False,  True, False])"
      ]
     },
     "execution_count": 102,
     "metadata": {},
     "output_type": "execute_result"
    }
   ],
   "source": [
    "#Question:15\n",
    "#How to find if a given array has any null values?\n",
    "arr15=np.array([0,1,2, 23,45,44, np.nan,23])\n",
    "chk=np.isnan(arr15)\n",
    "chk"
   ]
  },
  {
   "cell_type": "code",
   "execution_count": null,
   "metadata": {},
   "outputs": [],
   "source": []
  }
 ],
 "metadata": {
  "kernelspec": {
   "display_name": "Python 3",
   "language": "python",
   "name": "python3"
  },
  "language_info": {
   "codemirror_mode": {
    "name": "ipython",
    "version": 3
   },
   "file_extension": ".py",
   "mimetype": "text/x-python",
   "name": "python",
   "nbconvert_exporter": "python",
   "pygments_lexer": "ipython3",
   "version": "3.7.6"
  }
 },
 "nbformat": 4,
 "nbformat_minor": 4
}
